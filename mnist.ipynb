{
  "nbformat": 4,
  "nbformat_minor": 0,
  "metadata": {
    "colab": {
      "name": "mnist.ipynb",
      "provenance": []
    },
    "kernelspec": {
      "name": "python3",
      "display_name": "Python 3"
    },
    "language_info": {
      "name": "python"
    },
    "accelerator": "GPU"
  },
  "cells": [
    {
      "cell_type": "code",
      "metadata": {
        "id": "G4Ja6_FsNSQS"
      },
      "source": [
        "import numpy as np\n",
        "import pandas as pd\n",
        "import matplotlib.pyplot as plt\n",
        "%matplotlib inline\n",
        "from keras.datasets import mnist\n",
        "from keras.models import Sequential\n",
        "from keras.layers import Dense, Dropout, Activation\n",
        "from keras.utils import np_utils"
      ],
      "execution_count": 2,
      "outputs": []
    },
    {
      "cell_type": "code",
      "metadata": {
        "colab": {
          "base_uri": "https://localhost:8080/"
        },
        "id": "cA6Bx3WHcf3s",
        "outputId": "e559dd79-b78d-4b36-bf67-c98f176e286c"
      },
      "source": [
        "(X_train, y_train), (X_test, y_test) = mnist.load_data()"
      ],
      "execution_count": 3,
      "outputs": [
        {
          "output_type": "stream",
          "text": [
            "Downloading data from https://storage.googleapis.com/tensorflow/tf-keras-datasets/mnist.npz\n",
            "11493376/11490434 [==============================] - 0s 0us/step\n"
          ],
          "name": "stdout"
        }
      ]
    },
    {
      "cell_type": "code",
      "metadata": {
        "colab": {
          "base_uri": "https://localhost:8080/"
        },
        "id": "6Fa83golc24k",
        "outputId": "fa2214c3-8730-45fe-fd3b-086c5f0b998d"
      },
      "source": [
        "print(\"X_train original shape\", X_train.shape)\n",
        "print(\"y_train original shape\", y_train.shape)\n",
        "print(\"X_test original shape\", X_test.shape)\n",
        "print(\"y_test original shape\", y_test.shape)"
      ],
      "execution_count": 4,
      "outputs": [
        {
          "output_type": "stream",
          "text": [
            "X_train original shape (60000, 28, 28)\n",
            "y_train original shape (60000,)\n",
            "X_test original shape (10000, 28, 28)\n",
            "y_test original shape (10000,)\n"
          ],
          "name": "stdout"
        }
      ]
    },
    {
      "cell_type": "code",
      "metadata": {
        "id": "AngxEnlidE73"
      },
      "source": [
        "X_train = X_train.reshape(60000,784)\n",
        "X_test = X_test.reshape(10000,784)\n",
        "\n",
        "X_train = X_train.astype('float32')\n",
        "X_test = X_test.astype('float32')\n",
        "\n",
        "X_train/=255\n",
        "X_test/=255"
      ],
      "execution_count": 5,
      "outputs": []
    },
    {
      "cell_type": "code",
      "metadata": {
        "colab": {
          "base_uri": "https://localhost:8080/"
        },
        "id": "8SU_2Ec6dNEb",
        "outputId": "04c05f92-b883-4a89-bac9-1f1c1fa50547"
      },
      "source": [
        "number_of_classes = 10\n",
        "\n",
        "Y_train = np_utils.to_categorical(y_train, number_of_classes)\n",
        "Y_test = np_utils.to_categorical(y_test, number_of_classes)\n",
        "\n",
        "y_train[0], Y_train[0]"
      ],
      "execution_count": 6,
      "outputs": [
        {
          "output_type": "execute_result",
          "data": {
            "text/plain": [
              "(5, array([0., 0., 0., 0., 0., 1., 0., 0., 0., 0.], dtype=float32))"
            ]
          },
          "metadata": {
            "tags": []
          },
          "execution_count": 6
        }
      ]
    },
    {
      "cell_type": "code",
      "metadata": {
        "id": "7cNleBvAdS22"
      },
      "source": [
        "model = Sequential()\n",
        "model.add(Dense(512, input_dim=784))\n",
        "model.add(Activation('relu'))\n",
        "model.add(Dropout(0.2))\n",
        "model.add(Dense(512))\n",
        "model.add(Activation('relu'))\n",
        "model.add(Dropout(0.2))\n",
        "model.add(Dense(512))\n",
        "model.add(Activation('relu'))\n",
        "model.add(Dropout(0.2))\n",
        "model.add(Dense(10))\n",
        "model.add(Activation('softmax'))"
      ],
      "execution_count": 7,
      "outputs": []
    },
    {
      "cell_type": "code",
      "metadata": {
        "id": "Bz6WG6AodhfJ"
      },
      "source": [
        "model.compile(loss='categorical_crossentropy', optimizer='adam', metrics=['accuracy'])"
      ],
      "execution_count": 9,
      "outputs": []
    },
    {
      "cell_type": "code",
      "metadata": {
        "colab": {
          "base_uri": "https://localhost:8080/"
        },
        "id": "MhOt1vbcdm6E",
        "outputId": "2a0c8f5a-db29-48d4-cff2-23d928fe4cba"
      },
      "source": [
        "model.summary()"
      ],
      "execution_count": 10,
      "outputs": [
        {
          "output_type": "stream",
          "text": [
            "Model: \"sequential\"\n",
            "_________________________________________________________________\n",
            "Layer (type)                 Output Shape              Param #   \n",
            "=================================================================\n",
            "dense (Dense)                (None, 512)               401920    \n",
            "_________________________________________________________________\n",
            "activation (Activation)      (None, 512)               0         \n",
            "_________________________________________________________________\n",
            "dropout (Dropout)            (None, 512)               0         \n",
            "_________________________________________________________________\n",
            "dense_1 (Dense)              (None, 512)               262656    \n",
            "_________________________________________________________________\n",
            "activation_1 (Activation)    (None, 512)               0         \n",
            "_________________________________________________________________\n",
            "dropout_1 (Dropout)          (None, 512)               0         \n",
            "_________________________________________________________________\n",
            "dense_2 (Dense)              (None, 512)               262656    \n",
            "_________________________________________________________________\n",
            "activation_2 (Activation)    (None, 512)               0         \n",
            "_________________________________________________________________\n",
            "dropout_2 (Dropout)          (None, 512)               0         \n",
            "_________________________________________________________________\n",
            "dense_3 (Dense)              (None, 10)                5130      \n",
            "_________________________________________________________________\n",
            "activation_3 (Activation)    (None, 10)                0         \n",
            "=================================================================\n",
            "Total params: 932,362\n",
            "Trainable params: 932,362\n",
            "Non-trainable params: 0\n",
            "_________________________________________________________________\n"
          ],
          "name": "stdout"
        }
      ]
    },
    {
      "cell_type": "code",
      "metadata": {
        "colab": {
          "base_uri": "https://localhost:8080/"
        },
        "id": "V_UCQ-apeD0b",
        "outputId": "9a599f6a-c3d2-401c-9242-63bd132e0922"
      },
      "source": [
        "history=model.fit(X_train, Y_train, batch_size=128, epochs=10, validation_split=0.2)"
      ],
      "execution_count": 36,
      "outputs": [
        {
          "output_type": "stream",
          "text": [
            "Epoch 1/10\n",
            "375/375 [==============================] - 9s 25ms/step - loss: 0.0440 - accuracy: 0.9919 - val_loss: 0.1035 - val_accuracy: 0.9804\n",
            "Epoch 2/10\n",
            "375/375 [==============================] - 9s 25ms/step - loss: 0.0197 - accuracy: 0.9953 - val_loss: 0.1053 - val_accuracy: 0.9826\n",
            "Epoch 3/10\n",
            "375/375 [==============================] - 9s 24ms/step - loss: 0.0137 - accuracy: 0.9967 - val_loss: 0.1078 - val_accuracy: 0.9827\n",
            "Epoch 4/10\n",
            "375/375 [==============================] - 9s 25ms/step - loss: 0.0120 - accuracy: 0.9968 - val_loss: 0.1105 - val_accuracy: 0.9833\n",
            "Epoch 5/10\n",
            "375/375 [==============================] - 9s 25ms/step - loss: 0.0117 - accuracy: 0.9971 - val_loss: 0.1219 - val_accuracy: 0.9828\n",
            "Epoch 6/10\n",
            "375/375 [==============================] - 9s 24ms/step - loss: 0.0099 - accuracy: 0.9971 - val_loss: 0.1276 - val_accuracy: 0.9824\n",
            "Epoch 7/10\n",
            "375/375 [==============================] - 9s 24ms/step - loss: 0.0085 - accuracy: 0.9977 - val_loss: 0.1298 - val_accuracy: 0.9837\n",
            "Epoch 8/10\n",
            "375/375 [==============================] - 9s 24ms/step - loss: 0.0097 - accuracy: 0.9976 - val_loss: 0.1426 - val_accuracy: 0.9809\n",
            "Epoch 9/10\n",
            "375/375 [==============================] - 9s 24ms/step - loss: 0.0152 - accuracy: 0.9964 - val_loss: 0.1250 - val_accuracy: 0.9822\n",
            "Epoch 10/10\n",
            "375/375 [==============================] - 9s 25ms/step - loss: 0.0114 - accuracy: 0.9969 - val_loss: 0.1335 - val_accuracy: 0.9815\n"
          ],
          "name": "stdout"
        }
      ]
    },
    {
      "cell_type": "code",
      "metadata": {
        "colab": {
          "base_uri": "https://localhost:8080/"
        },
        "id": "KPOmIlZMgQGm",
        "outputId": "1bd9aef1-bcce-4e19-8985-84ffebe7931e"
      },
      "source": [
        "y_pred = model.predict(X_test)\n",
        "y_pred_class = np.argmax(y_pred,axis=1)\n",
        "y_pred_class"
      ],
      "execution_count": 37,
      "outputs": [
        {
          "output_type": "execute_result",
          "data": {
            "text/plain": [
              "array([7, 2, 1, ..., 4, 5, 6])"
            ]
          },
          "metadata": {
            "tags": []
          },
          "execution_count": 37
        }
      ]
    },
    {
      "cell_type": "code",
      "metadata": {
        "colab": {
          "base_uri": "https://localhost:8080/"
        },
        "id": "DFW4g3n64E_L",
        "outputId": "62c5b93c-ca9a-401e-9ede-97924813fff1"
      },
      "source": [
        "from sklearn.metrics import classification_report,confusion_matrix\n",
        "confusion_matrix(y_test,y_pred_class)"
      ],
      "execution_count": 38,
      "outputs": [
        {
          "output_type": "execute_result",
          "data": {
            "text/plain": [
              "array([[ 972,    1,    0,    1,    0,    0,    4,    1,    1,    0],\n",
              "       [   0, 1129,    0,    0,    0,    1,    2,    1,    2,    0],\n",
              "       [   0,    3, 1016,    3,    1,    0,    1,    4,    3,    1],\n",
              "       [   0,    0,    1,  998,    0,    3,    0,    3,    3,    2],\n",
              "       [   0,    3,    1,    0,  962,    0,    7,    1,    0,    8],\n",
              "       [   1,    0,    0,    9,    2,  873,    2,    1,    2,    2],\n",
              "       [   1,    2,    0,    0,    1,    6,  947,    0,    1,    0],\n",
              "       [   1,    1,    4,    2,    0,    0,    0, 1016,    2,    2],\n",
              "       [   1,    2,    3,    9,    2,    1,    1,    4,  947,    4],\n",
              "       [   0,    3,    0,    5,    6,    3,    0,    4,    3,  985]])"
            ]
          },
          "metadata": {
            "tags": []
          },
          "execution_count": 38
        }
      ]
    },
    {
      "cell_type": "code",
      "metadata": {
        "colab": {
          "base_uri": "https://localhost:8080/"
        },
        "id": "4Nq_NRPg9giK",
        "outputId": "ce2331b4-814a-4799-ecec-e76b26051bf3"
      },
      "source": [
        "print(history.history.keys())"
      ],
      "execution_count": 39,
      "outputs": [
        {
          "output_type": "stream",
          "text": [
            "dict_keys(['loss', 'accuracy', 'val_loss', 'val_accuracy'])\n"
          ],
          "name": "stdout"
        }
      ]
    },
    {
      "cell_type": "code",
      "metadata": {
        "colab": {
          "base_uri": "https://localhost:8080/",
          "height": 295
        },
        "id": "B4im6se_-toH",
        "outputId": "9356c3b2-1d86-4fe5-c64b-69e444a2e47d"
      },
      "source": [
        "import matplotlib.pyplot as plt\n",
        "plt.plot(history.history['loss'])\n",
        "plt.plot(history.history['val_loss'])\n",
        "plt.title('model loss')\n",
        "plt.ylabel('loss')\n",
        "plt.xlabel('epoch')\n",
        "plt.legend(['train', 'val'], loc='upper left')\n",
        "plt.show()"
      ],
      "execution_count": 40,
      "outputs": [
        {
          "output_type": "display_data",
          "data": {
            "image/png": "[encoded data removed]",
            "text/plain": [
              "<Figure size 432x288 with 1 Axes>"
            ]
          },
          "metadata": {
            "tags": [],
            "needs_background": "light"
          }
        }
      ]
    },
    {
      "cell_type": "code",
      "metadata": {
        "colab": {
          "base_uri": "https://localhost:8080/",
          "height": 295
        },
        "id": "bpCrM-Sd_H1k",
        "outputId": "84861688-7591-453d-ed84-c2c7a8be89d2"
      },
      "source": [
        "plt.plot(history.history['accuracy'])\n",
        "plt.plot(history.history['val_accuracy'])\n",
        "plt.title('model accuracy')\n",
        "plt.ylabel('accuracy')\n",
        "plt.xlabel('epoch')\n",
        "plt.legend(['train', 'test'], loc='upper left')\n",
        "plt.show()"
      ],
      "execution_count": 41,
      "outputs": [
        {
          "output_type": "display_data",
          "data": {
            "image/png": "[encoded data removed]",
            "text/plain": [
              "<Figure size 432x288 with 1 Axes>"
            ]
          },
          "metadata": {
            "tags": [],
            "needs_background": "light"
          }
        }
      ]
    },
    {
      "cell_type": "code",
      "metadata": {
        "colab": {
          "base_uri": "https://localhost:8080/",
          "height": 295
        },
        "id": "2DTayU5R_MtF",
        "outputId": "9fbb5d9c-c713-4195-d0ab-6bb6aac8d7fa"
      },
      "source": [
        "import matplotlib.pyplot as plt\n",
        "plt.plot(history.history['loss'])\n",
        "plt.title('model loss')\n",
        "plt.ylabel('loss')\n",
        "plt.xlabel('epoch')\n",
        "plt.show()\n"
      ],
      "execution_count": 42,
      "outputs": [
        {
          "output_type": "display_data",
          "data": {
            "image/png": "[encoded data removed]",
            "text/plain": [
              "<Figure size 432x288 with 1 Axes>"
            ]
          },
          "metadata": {
            "tags": [],
            "needs_background": "light"
          }
        }
      ]
    },
    {
      "cell_type": "code",
      "metadata": {
        "id": "CrU4X6X1_b_M"
      },
      "source": [
        ""
      ],
      "execution_count": null,
      "outputs": []
    }
  ]
}